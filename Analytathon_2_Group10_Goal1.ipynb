{
 "cells": [
  {
   "cell_type": "code",
   "execution_count": 1,
   "id": "c9b6cbcd",
   "metadata": {},
   "outputs": [],
   "source": [
    "# Author: Sheila Sharifi\n",
    "import os\n",
    "from PIL import Image\n",
    "import pandas as pd\n",
    "import numpy as np\n",
    "import matplotlib.pyplot as plt\n",
    "import torch\n",
    "from torch import nn\n",
    "from torch import optim\n",
    "import torchvision\n",
    "from torchvision import transforms\n",
    "from torch.utils.data import DataLoader, TensorDataset\n",
    "from sklearn.model_selection import train_test_split\n",
    "\n",
    "torch.manual_seed(99)\n",
    "np.random.seed(99)"
   ]
  },
  {
   "cell_type": "code",
   "execution_count": 13,
   "id": "76fca4ef",
   "metadata": {},
   "outputs": [
    {
     "name": "stdout",
     "output_type": "stream",
     "text": [
      "   label  0  1  2  3  4  5  6  7  8  ...  27638  27639  27640  27641  27642  \\\n",
      "0      0  0  1  2  3  4  5  6  7  8  ...  27638  27639  27640  27641  27642   \n",
      "\n",
      "   27643  27644  27645  27646  27647  \n",
      "0  27643  27644  27645  27646  27647  \n",
      "\n",
      "[1 rows x 27649 columns]\n",
      "['greypartridge', 'stockdove', 'turtledove', 'yellowhammer']\n",
      "data: \n",
      "      label    0    1    2    3    4    5    6    7    8  ...  27638  27639  \\\n",
      "1         0  212  234  240  233  233  227  235  235  229  ...     20     31   \n",
      "2         0  173  233  213  241  227  242  234  244  241  ...     30     47   \n",
      "3         0  201  244  236  230  236  235  224  231  230  ...     79     27   \n",
      "4         0  184  232  231  225  208  228  243  234  225  ...     26     52   \n",
      "5         0  169  245  247  233  241  237  238  236  241  ...     11      3   \n",
      "...     ...  ...  ...  ...  ...  ...  ...  ...  ...  ...  ...    ...    ...   \n",
      "3517      3  255  229  190  197  215  191  191  204  204  ...     47     28   \n",
      "3518      3  194  213  199  214  221  196  209  216  209  ...    237    246   \n",
      "3519      3  255  255  252  249  245  246  245  246  246  ...    157    157   \n",
      "3520      3  243  226  221  223  225  223  217  209  220  ...     10     40   \n",
      "3521      3  255  204  196  205  227  212  208  211  216  ...     92     99   \n",
      "\n",
      "      27640  27641  27642  27643  27644  27645  27646  27647  \n",
      "1        43     23     36     26     20     30     18     26  \n",
      "2        36     20     30     34     26     27     28     17  \n",
      "3        49     44     42     30     24     47     24     14  \n",
      "4        13     25     44     26     25     11     28     31  \n",
      "5        16     30     13     20      6     26     31     33  \n",
      "...     ...    ...    ...    ...    ...    ...    ...    ...  \n",
      "3517     30     27     26     36     35     19     22     15  \n",
      "3518    250    254    237    245    242    248    224    186  \n",
      "3519    120    106    109     97    123    116    123    112  \n",
      "3520      8     11     28     47     29     35     15     17  \n",
      "3521     83     76     71     80     71     58     62     43  \n",
      "\n",
      "[3521 rows x 27649 columns]\n"
     ]
    }
   ],
   "source": [
    "# Author: Weixiao Huang\n",
    "## Notice: label for each bird species: Grey Partridge --0, Stock Dove -- 1, Turtle Dove -- 2, yellowhammer -- 3\n",
    "## Notice: In order to import the entire dataset, you may need to combine the four files that each contain the song spectrograms of a different species of bird into one file called \"datasets\", \n",
    "# and alter the file's path to match your \"datastes\" directory. It can take about 20 minutes to import all 4000 of the spectrograms. \n",
    "\n",
    "temp = pd.DataFrame([[i for i in range(27648)]])\n",
    "temp.insert(loc = 0, column = \"label\", value =0 )\n",
    "print(temp)\n",
    "\n",
    "path = \"I:/datasets\"\n",
    "\n",
    "data_files = [f for f in os.listdir(path)]\n",
    "print(data_files)\n",
    "\n",
    "for data_file in data_files:\n",
    "    added_path = os.path.join(path, data_file)\n",
    "    files = [p for p in os.listdir(added_path) if not p.endswith(\".csv\")]\n",
    "    for a in files: \n",
    "        added_path_1 = os.path.join(added_path, a)\n",
    "        image_files = [i for i in os.listdir(added_path_1)]\n",
    "        for b in image_files:\n",
    "            full_path = os.path.join(added_path_1, b)\n",
    "            image = Image.open(full_path)\n",
    "            width, height = image.size\n",
    "            if width == 216 and height == 128:\n",
    "                pixels = list(image.getdata())\n",
    "                if \"greypartridge\" in full_path:\n",
    "                    # bird species is grey partridge\n",
    "                    label = 0\n",
    "                elif \"stockdove\" in full_path:\n",
    "                    # bird species is Stock Dove\n",
    "                    label = 1\n",
    "                elif \"turtledove\" in full_path:\n",
    "                    # bird species is Turtle Dove\n",
    "                    label = 2\n",
    "                else:\n",
    "                    # bird species is yellow hammer\n",
    "                    label = 3\n",
    "                pixels_labeled = [label]+pixels\n",
    "                temp.loc[len(temp)] = pixels_labeled\n",
    "            else:\n",
    "                continue\n",
    "#                 print(\"width is not 216, hence filtered out\")\n",
    "                \n",
    "data = temp.iloc[1:]\n",
    "print(f\"data: \\n{data}\")    \n",
    "labels = data.loc[:,\"label\"]\n",
    "\n",
    "# 479 images have been filtered due to the inconsistency dimensions"
   ]
  },
  {
   "cell_type": "markdown",
   "id": "4fae41d6",
   "metadata": {},
   "source": [
    "# Train Test Split"
   ]
  },
  {
   "cell_type": "code",
   "execution_count": 24,
   "id": "246c87e6",
   "metadata": {},
   "outputs": [
    {
     "name": "stdout",
     "output_type": "stream",
     "text": [
      "Train data size : torch.Size([2816, 27648])\n",
      "Test data size : torch.Size([705, 27648])\n"
     ]
    }
   ],
   "source": [
    "# Author: Anuj Solanki\n",
    "train_df,test_df = train_test_split(data,test_size=0.2, stratify= labels)\n",
    "\n",
    "train_data = torch.tensor(train_df.iloc[:, 1:].to_numpy(dtype = 'float32')/255)\n",
    "test_data = torch.tensor(test_df.iloc[:, 1:].to_numpy(dtype = 'float32')/255)\n",
    "train_labels = torch.tensor(train_df['label'].values).long()\n",
    "test_labels = torch.tensor(test_df['label'].values).long()\n",
    "print(f\"Train data size : {train_data.shape}\")\n",
    "print(f\"Test data size : {test_data.shape}\")\n"
   ]
  },
  {
   "cell_type": "code",
   "execution_count": 25,
   "id": "0a7425bd",
   "metadata": {},
   "outputs": [],
   "source": [
    "# Author: Sheila Sharifi\n",
    "train_images = train_data.reshape(-1,1,128,216)\n",
    "test_images = test_data.reshape(-1,1,128,216)\n"
   ]
  },
  {
   "cell_type": "code",
   "execution_count": 26,
   "id": "cbb2252b",
   "metadata": {},
   "outputs": [],
   "source": [
    "# Author: Weixiao Huang\n",
    "train_dataset = TensorDataset(train_images,train_labels)\n",
    "test_dataset = TensorDataset(test_images,test_labels)\n",
    "\n",
    "batch_size = 64 \n",
    "\n",
    "train_loader = DataLoader(train_dataset, batch_size,shuffle=True)\n",
    "test_loader = DataLoader(test_dataset, batch_size,shuffle=False )"
   ]
  },
  {
   "cell_type": "code",
   "execution_count": 27,
   "id": "8492e0fb",
   "metadata": {},
   "outputs": [],
   "source": [
    "# Author: Weixiao Huang & Sristi Jaiswal \n",
    "num_classes = 4\n",
    "\n",
    "class CNN(nn.Module):\n",
    "    def __init__(self):\n",
    "        super(CNN, self).__init__()\n",
    "        \n",
    "        self.cnn = nn.Sequential(\n",
    "\n",
    "            nn.Conv2d(1, 16, 3, stride = 1, padding = 1), # kernel size of 3 means 3x3\n",
    "            nn.MaxPool2d(2),\n",
    "            nn.ReLU(),\n",
    "            \n",
    "            nn.Conv2d(16, 32, 3, stride = 1, padding = 1),\n",
    "            nn.MaxPool2d(2),\n",
    "            nn.Dropout(0.4),  # prevent overfitting\n",
    "            nn.ReLU(),\n",
    "            nn.Flatten(),\n",
    "            \n",
    "            nn.Dropout(0.4),\n",
    "            nn.Linear(55296, 1000),\n",
    "            nn.ReLU(),\n",
    "            nn.Linear(1000, num_classes)\n",
    "            )\n",
    "        \n",
    "\n",
    "    def forward(self, x):\n",
    "        out = self.cnn(x)\n",
    "      \n",
    "        return out\n"
   ]
  },
  {
   "cell_type": "code",
   "execution_count": 38,
   "id": "2224ec97",
   "metadata": {},
   "outputs": [],
   "source": [
    "# Author: Sristi Jaiswal \n",
    "num_epochs = 10\n",
    "\n",
    "def train(model,train_loader,test_loader,num_epochs,optimizer):\n",
    "    criterion = nn.CrossEntropyLoss()\n",
    "    \n",
    "    epochs, epoch_loss, epoch_val_loss, epoch_accuracy= [],[],[],[]\n",
    "    for n in range(num_epochs):\n",
    "        model.train()\n",
    "        train_loss = 0\n",
    "        for batch_idx,(data,labels) in enumerate(train_loader):\n",
    "            # zero the parameter gradients\n",
    "            optimizer.zero_grad()\n",
    "\n",
    "            # forward + backward + optimize\n",
    "            outputs = model(data)\n",
    "            loss = criterion(outputs, labels)\n",
    "            loss.backward()\n",
    "            optimizer.step()\n",
    "            train_loss+=loss.item()\n",
    "        train_loss = train_loss/(batch_idx+1)\n",
    "        epoch_loss.append(train_loss)\n",
    "        model.eval()  \n",
    "        correct = 0\n",
    "        total = 0\n",
    "        loss_list = []\n",
    "        with torch.no_grad():\n",
    "            for batch_idx,(data,labels) in enumerate(test_loader):\n",
    "                outputs = model(data)\n",
    "                loss = criterion(outputs, labels)\n",
    "                loss_list.append(loss)\n",
    "                correct += (outputs.argmax(1) == labels).sum().item()\n",
    "                total += len(labels)\n",
    "                \n",
    "        val_loss = np.mean(loss_list)\n",
    "        epoch_val_loss.append(val_loss)\n",
    "        accuracy = correct/total  \n",
    "        epoch_accuracy.append(accuracy*100)\n",
    "        epochs.append(n+1)\n",
    "        print(f'{n+1} / {num_epochs}: loss {train_loss:0.03f}, val_loss {val_loss:0.03f}, accuracy {accuracy:0.03f}')\n",
    "        \n",
    "    fig,axs = plt.subplots(1,2,figsize=(16,5))\n",
    "    axs[0].plot(epochs,epoch_loss,label='train')\n",
    "    axs[0].plot(epochs,epoch_val_loss,label='val')\n",
    "    axs[0].legend()\n",
    "    axs[0].set_xlabel('Epoch')\n",
    "    axs[0].set_ylabel('Loss')\n",
    "    axs[1].plot(epochs,epoch_accuracy)\n",
    "    axs[1].set_xlabel('Epoch')\n",
    "    axs[1].set_ylabel('Accuracy')\n"
   ]
  },
  {
   "cell_type": "code",
   "execution_count": 44,
   "id": "aa8be1ac",
   "metadata": {},
   "outputs": [],
   "source": [
    "# Author: Anuj Solanki\n",
    "loss_fn = nn.CrossEntropyLoss()\n",
    "def test(model, loss_fn):\n",
    "    size = len(test_loader.dataset)\n",
    "    num_batches = len(test_loader)\n",
    "    model.eval()\n",
    "    test_loss = 0\n",
    "    correct = 0\n",
    "    \n",
    "    label_array = np.zeros(len(test_dataset))\n",
    "    pred_array = np.zeros(len(test_dataset))\n",
    "    n=0\n",
    "    with torch.no_grad():\n",
    "        for images, labels in test_loader:\n",
    "            pred = model(images)\n",
    "            pred_labels = pred.argmax(1)\n",
    "            test_loss += loss_fn(pred, labels).item()\n",
    "            correct += (pred_labels == labels).sum().item()\n",
    "\n",
    "            for label, prediction in zip(labels, pred_labels):\n",
    "                \n",
    "                label_array[n] = label\n",
    "                pred_array[n] = prediction\n",
    "                n=n+1\n",
    "            \n",
    "    test_loss /= num_batches\n",
    "    correct /= size\n",
    "    print(f\"Test Error: \\n Accuracy: {(100*correct):>0.1f}%, Avg loss: {test_loss:>8f} \\n\")\n",
    "    return label_array, pred_array"
   ]
  },
  {
   "cell_type": "code",
   "execution_count": 46,
   "id": "fb9861e1",
   "metadata": {},
   "outputs": [
    {
     "name": "stdout",
     "output_type": "stream",
     "text": [
      "torch.Size([64, 4])\n",
      "1 / 10: loss 2.099, val_loss 0.869, accuracy 0.664\n",
      "2 / 10: loss 0.787, val_loss 0.664, accuracy 0.762\n",
      "3 / 10: loss 0.641, val_loss 0.576, accuracy 0.796\n",
      "4 / 10: loss 0.569, val_loss 0.525, accuracy 0.799\n",
      "5 / 10: loss 0.529, val_loss 0.489, accuracy 0.834\n",
      "6 / 10: loss 0.489, val_loss 0.477, accuracy 0.828\n",
      "7 / 10: loss 0.464, val_loss 0.469, accuracy 0.823\n",
      "8 / 10: loss 0.443, val_loss 0.489, accuracy 0.818\n",
      "9 / 10: loss 0.411, val_loss 0.434, accuracy 0.835\n",
      "10 / 10: loss 0.381, val_loss 0.429, accuracy 0.837\n"
     ]
    },
    {
     "data": {
      "image/png": "[encoded data removed]",
      "text/plain": [
       "<Figure size 1152x360 with 2 Axes>"
      ]
     },
     "metadata": {
      "needs_background": "light"
     },
     "output_type": "display_data"
    }
   ],
   "source": [
    "# Author: Sristi Jaiswal \n",
    "model = CNN()\n",
    "\n",
    "for images,label in train_loader:\n",
    "    output = model(images)\n",
    "print(output.shape)\n",
    "optimizer = optim.Adam(model.parameters(), lr=1e-3,weight_decay=1e-3)\n",
    "train(model,train_loader,test_loader,num_epochs,optimizer)\n"
   ]
  },
  {
   "cell_type": "code",
   "execution_count": 47,
   "id": "258f94f6",
   "metadata": {},
   "outputs": [
    {
     "name": "stdout",
     "output_type": "stream",
     "text": [
      "Test Error: \n",
      " Accuracy: 83.7%, Avg loss: 0.428886 \n",
      "\n"
     ]
    },
    {
     "data": {
      "image/png": "[encoded data removed]",
      "text/plain": [
       "<Figure size 720x576 with 2 Axes>"
      ]
     },
     "metadata": {
      "needs_background": "light"
     },
     "output_type": "display_data"
    }
   ],
   "source": [
    "# Author: Anuj Solanki\n",
    "classes = [0,1,2,3]\n",
    "\n",
    "label_array, pred_array = test(model,loss_fn)\n",
    "\n",
    "from sklearn import metrics\n",
    "disp = metrics.ConfusionMatrixDisplay.from_predictions(label_array, pred_array,\n",
    "                display_labels=classes,\n",
    "                normalize='true')\n",
    "fig = plt.gcf()\n",
    "fig.set_figheight(8)\n",
    "fig.set_figwidth(10)"
   ]
  }
 ],
 "metadata": {
  "kernelspec": {
   "display_name": "Python 3 (ipykernel)",
   "language": "python",
   "name": "python3"
  },
  "language_info": {
   "codemirror_mode": {
    "name": "ipython",
    "version": 3
   },
   "file_extension": ".py",
   "mimetype": "text/x-python",
   "name": "python",
   "nbconvert_exporter": "python",
   "pygments_lexer": "ipython3",
   "version": "3.9.12"
  }
 },
 "nbformat": 4,
 "nbformat_minor": 5
}
